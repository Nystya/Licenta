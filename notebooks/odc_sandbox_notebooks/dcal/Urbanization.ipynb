{
 "cells": [
  {
   "cell_type": "code",
   "execution_count": 1,
   "metadata": {},
   "outputs": [],
   "source": [
    "# Supress Warning and import used libs\n",
    "import warnings\n",
    "import datetime\n",
    "import matplotlib.pyplot as plt\n",
    "import numpy as np\n",
    "import xarray as xr\n",
    "import gc\n",
    "\n",
    "from utils.utils import (\n",
    "        lat_lon_to_epsg,\n",
    "        three_band_image,\n",
    "        load_config_extents,\n",
    "        transform_to_wgs)\n",
    "\n",
    "warnings.filterwarnings('ignore')"
   ]
  },
  {
   "cell_type": "code",
   "execution_count": 2,
   "metadata": {},
   "outputs": [],
   "source": [
    "# Import data loader\n",
    "\n",
    "from utils.data_cube_utilities.loader import load_data\n",
    "from utils.data_cube_utilities.loader import progress_cbk"
   ]
  },
  {
   "cell_type": "code",
   "execution_count": 3,
   "metadata": {},
   "outputs": [],
   "source": [
    "# Define available spectral indices\n",
    "\n",
    "def NDBI(dataset):\n",
    "    return (dataset.swir1 - dataset.nir)/(dataset.swir1 + dataset.nir)\n",
    "\n",
    "def NDVI(dataset):\n",
    "    return (dataset.nir - dataset.red)/(dataset.nir + dataset.red)\n",
    "\n",
    "def NDWI(dataset):\n",
    "    return (dataset.green - dataset.nir)/(dataset.green + dataset.nir)\n",
    "\n",
    "def NDBII(dataset):\n",
    "    ndbi = NDBI(dataset)\n",
    "    ndvi = NDVI(dataset)\n",
    "    \n",
    "    ndbi = (ndbi - np.min(ndbi))/(np.max(ndbi) - np.min(ndbi))\n",
    "    ndvi = (ndvi - np.min(ndvi))/(np.max(ndvi) - np.min(ndvi))\n",
    "    \n",
    "    return ndbi - ndvi"
   ]
  },
  {
   "cell_type": "code",
   "execution_count": 4,
   "metadata": {},
   "outputs": [],
   "source": [
    "# Define available mosaic creation functions\n",
    "\n",
    "def median_mosaic(dataset):\n",
    "    from utils.data_cube_utilities.dc_mosaic import create_median_mosaic\n",
    "    return create_median_mosaic(dataset)\n",
    "\n",
    "def mean_mosaic(dataset):\n",
    "    from utils.data_cube_utilities.dc_mosaic import create_mean_mosaic\n",
    "    return create_mean_mosaic(dataset)\n",
    "\n",
    "def max_ndvi(dataset):\n",
    "    from utils.data_cube_utilities.dc_mosaic import create_max_ndvi_mosaic\n",
    "    return create_max_ndvi_mosaic(dataset)\n",
    "\n",
    "def most_recent(dataset):\n",
    "    from utils.data_cube_utilities.dc_mosaic import create_mosaic\n",
    "    return create_mosaic(dataset)"
   ]
  },
  {
   "cell_type": "code",
   "execution_count": 5,
   "metadata": {},
   "outputs": [],
   "source": [
    "# Comparative plotter that plots two images, a baseline and an analysis image.\n",
    "\n",
    "def plotter(baseline, analysis):\n",
    "    from utils.utils import three_band_image\n",
    "    from matplotlib import pyplot as plt\n",
    "\n",
    "    baseline_img = three_band_image(baseline, bands=['red', 'green', 'blue'])\n",
    "    analysis_img = three_band_image(analysis, bands=['red', 'green', 'blue'])\n",
    "    fig = plt.figure(1, [10, 20])\n",
    "\n",
    "    plt.subplot(211)\n",
    "    ax = plt.gca()\n",
    "    ax.set_title(\"Baseline\", fontweight='bold', fontsize=16)\n",
    "    ax.set_xticklabels(baseline.x.values)\n",
    "    ax.set_yticklabels(baseline.y.values)\n",
    "    ax.set_xlabel('Easting', fontweight='bold')\n",
    "    ax.set_ylabel('Northing', fontweight='bold')\n",
    "\n",
    "    plt.imshow(baseline_img)\n",
    "\n",
    "    plt.subplot(212)\n",
    "    ax = plt.gca()\n",
    "    ax.set_title(\"Analysis\", fontweight='bold', fontsize=16)\n",
    "    ax.set_xticklabels(analysis.x.values)\n",
    "    ax.set_yticklabels(analysis.y.values)\n",
    "    ax.set_xlabel('Easting', fontweight='bold')\n",
    "    ax.set_ylabel('Northing', fontweight='bold')\n",
    "    plt.imshow(analysis_img)"
   ]
  },
  {
   "cell_type": "code",
   "execution_count": 6,
   "metadata": {},
   "outputs": [],
   "source": [
    "# Parameter checking & Input validation\n",
    "\n",
    "def check_params(latitude, longitude, time_extents_b, time_extents_a, mosaic_type, spectral):\n",
    "    if any(lat < -90 or lat > 90 for lat in latitude) or any(lon < -180 or lon > 180 for lon in longitude):\n",
    "        raise ValueError(\"Invalid latitude or longitude.\")\n",
    "\n",
    "    time_extents_b = (datetime.datetime.strptime(time_extents_b[0], \"%Y-%m-%d\"),\n",
    "                    datetime.datetime.strptime(time_extents_b[1], \"%Y-%m-%d\"))\n",
    "\n",
    "    if time_extents_b[0] < datetime.datetime.strptime(\"2013-01-01\", \"%Y-%m-%d\"):\n",
    "        raise ValueError(\"Invalid time extents for baseline.\")\n",
    "    if time_extents_b[1] < datetime.datetime.strptime(\"2013-01-01\", \"%Y-%m-%d\"):\n",
    "        raise ValueError(\"Invalid time extents for baseline.\")\n",
    "    if time_extents_b[0] > time_extents_b[1]:\n",
    "        raise ValueError(\"Invalid time extents for baseline.\")\n",
    "\n",
    "    time_extents_a = (datetime.datetime.strptime(time_extents_a[0], \"%Y-%m-%d\"),\n",
    "                    datetime.datetime.strptime(time_extents_a[1], \"%Y-%m-%d\"))\n",
    "\n",
    "    if time_extents_a[0] < datetime.datetime.strptime(\"2013-01-01\", \"%Y-%m-%d\"):\n",
    "        raise ValueError(\"Invalid time extents for analysis.\")\n",
    "    if time_extents_a[1] < datetime.datetime.strptime(\"2013-01-01\", \"%Y-%m-%d\"):\n",
    "        raise ValueError(\"Invalid time extents for analysis.\")\n",
    "    if time_extents_a[0] > time_extents_a[1]:\n",
    "        raise ValueError(\"Invalid time extents for analysis.\")\n",
    "\n",
    "    if mosaic_type not in [\"median\", \"mean\", \"maxndvi\", \"recent\"]:\n",
    "        raise ValueError(\"Invalid mosaic type.\")\n",
    "\n",
    "    if spectral not in [\"ndbi\", \"ndbii\"]:\n",
    "        raise ValueError(\"Invalid spectral index.\")"
   ]
  },
  {
   "cell_type": "markdown",
   "metadata": {},
   "source": [
    "### latitude: List of two float numbers represeting the latitude extents. Ex [45.10, 45.25]\n",
    "\n",
    "### latitude: List of two float numbers represeting the longitude extents. Ex [22.10, 22.25]\n",
    "\n",
    "### time_extents_b: Tuple of two strings representing the time extents for the baseline.\n",
    "    Ex ('2013-05-01', '2013-12-01')\n",
    "\n",
    "### time_extents_a: Tuple of two strings representing the time extents for the analysis period.\n",
    "    Ex ('2019-05-01', '2019-12-01')\n",
    "\n",
    "### mosaic_type: String representing the type of mosaic that should be used when creating a cloud-free image.\n",
    "    This should be one of:\n",
    "        - \"median\"\n",
    "        - \"mean\"\n",
    "        - \"maxndvi\"\n",
    "        - \"recent\"\n",
    "\n",
    "### spectral: String representing the spectral index that should be used to analyze the DOI.\n",
    "    This can be one of:\n",
    "        - \"ndbi\"\n",
    "### max_cloud: Float representing the maximum percentage of clouded pixels."
   ]
  },
  {
   "cell_type": "code",
   "execution_count": 7,
   "metadata": {},
   "outputs": [],
   "source": [
    "# You can change the DOI and algorithm settings here\n",
    "\n",
    "latitude = [46.77,46.72]\n",
    "longitude = [23.39,23.54]\n",
    "time_extents_b = (\"2013-05-01\",\"2013-12-01\")\n",
    "time_extents_a = (\"2019-05-01\",\"2019-12-01\")\n",
    "mosaic_type = \"median\"\n",
    "spectral = \"ndbii\"\n",
    "max_cloud = 0.05"
   ]
  },
  {
   "cell_type": "code",
   "execution_count": 8,
   "metadata": {},
   "outputs": [
    {
     "data": {
      "text/html": [
       "<div style=\"width:100%;\"><div style=\"position:relative;width:100%;height:0;padding-bottom:60%;\"><span style=\"color:#565656\">Make this Notebook Trusted to load map: File -> Trust Notebook</span><iframe src=\"about:blank\" style=\"position:absolute;width:100%;height:100%;left:0;top:0;border:none !important;\" data-html=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 onload=\"this.contentDocument.open();this.contentDocument.write(atob(this.getAttribute('data-html')));this.contentDocument.close();\" allowfullscreen webkitallowfullscreen mozallowfullscreen></iframe></div></div>"
      ],
      "text/plain": [
       "<folium.folium.Map at 0x7fa0e6a6df98>"
      ]
     },
     "execution_count": 8,
     "metadata": {},
     "output_type": "execute_result"
    }
   ],
   "source": [
    "from utils.data_cube_utilities.dc_display_map import display_map\n",
    "display_map(latitude = latitude, longitude = longitude)"
   ]
  },
  {
   "cell_type": "code",
   "execution_count": 9,
   "metadata": {},
   "outputs": [],
   "source": [
    "try:\n",
    "    check_params(latitude, longitude, time_extents_b, time_extents_a, mosaic_type, spectral)\n",
    "except ValueError as e:\n",
    "    print(e.__str__())\n",
    "\n",
    "product = \"ls8_usgs_level1_scene\"\n",
    "platform = \"LANDSAT_8\"\n",
    "EPSG = lat_lon_to_epsg(latitude[1], longitude[1])\n",
    "output_crs = 'EPSG:' + EPSG\n",
    "resolution = (-30, 30)"
   ]
  },
  {
   "cell_type": "code",
   "execution_count": null,
   "metadata": {},
   "outputs": [
    {
     "name": "stdout",
     "output_type": "stream",
     "text": [
      "([2019, 5, 1], [2019, 6, 1])\n",
      "([2019, 6, 1], [2019, 7, 1])\n"
     ]
    },
    {
     "name": "stderr",
     "output_type": "stream",
     "text": [
      "/env/lib/python3.6/site-packages/datacube/storage/masking.py:4: DeprecationWarning: datacube.storage.masking has moved to datacube.utils.masking\n",
      "  category=DeprecationWarning)\n"
     ]
    },
    {
     "name": "stdout",
     "output_type": "stream",
     "text": [
      "Cloud coverage is under 0.05%, stopping early.\n",
      "([2013, 5, 1], [2013, 6, 1])\n",
      "([2013, 6, 1], [2013, 7, 1])\n",
      "14/48\r"
     ]
    }
   ],
   "source": [
    "# Load the data\n",
    "time_extents = time_extents_a\n",
    "analysis = load_data(\n",
    "    latitude=latitude,\n",
    "    longitude=longitude,\n",
    "    platform=platform,\n",
    "    time=time_extents,\n",
    "    product=product,\n",
    "    output_crs=output_crs,\n",
    "    resolution=resolution,\n",
    "    progress_cbk=progress_cbk,\n",
    "    max_cloud=max_cloud,\n",
    "    measurements=(\n",
    "        'red',\n",
    "        'blue',\n",
    "        'green',\n",
    "        'swir1',\n",
    "        'nir',\n",
    "        'quality'\n",
    "    )\n",
    ")\n",
    "\n",
    "time_extents = time_extents_b\n",
    "baseline = load_data(\n",
    "    latitude=latitude,\n",
    "    longitude=longitude,\n",
    "    platform=platform,\n",
    "    time=time_extents,\n",
    "    product=product,\n",
    "    output_crs=output_crs,\n",
    "    resolution=resolution,\n",
    "    progress_cbk=progress_cbk,\n",
    "    max_cloud=max_cloud,\n",
    "    measurements=(\n",
    "        'red',\n",
    "        'blue',\n",
    "        'green',\n",
    "        'swir1',\n",
    "        'nir',\n",
    "        'quality'\n",
    "    )\n",
    ")\n"
   ]
  },
  {
   "cell_type": "code",
   "execution_count": null,
   "metadata": {},
   "outputs": [],
   "source": [
    "# Mask creating  & Pixel Filtering\n",
    "from datacube.storage import masking  # Import masking capabilities\n",
    "\n",
    "# Create mask around all pixels deemed good according to parameters around cloud cover and saturation.\n",
    "clean_pixel_mask_baseline = masking.make_mask(\n",
    "    baseline.quality,\n",
    "    cloud=False,\n",
    "    radiometric_saturation='none',\n",
    "    terrain_occlusion=False)\n",
    "\n",
    "masked_cloud_baseline = baseline.where((baseline != 0) & clean_pixel_mask_baseline)\n",
    "\n",
    "# We don't need the original datasets now, we only need the masked datasets, so we can free some memory.\n",
    "# Delaying this step may result in OOM errors.\n",
    "del(baseline)\n",
    "gc.collect()\n",
    "\n",
    "# Create mask around all pixels deemed good according to parameters around cloud cover and saturation.\n",
    "clean_pixel_mask_analysis = masking.make_mask(\n",
    "    analysis.quality,\n",
    "    cloud=False,\n",
    "    radiometric_saturation='none',\n",
    "    terrain_occlusion=False)\n",
    "\n",
    "masked_cloud_analysis = analysis.where((analysis != 0) & clean_pixel_mask_analysis)\n",
    "\n",
    "# We don't need the original datasets now, we only need the masked datasets, so we can free some memory.\n",
    "# Delaying this step may result in OOM errors.\n",
    "del(analysis)\n",
    "gc.collect()"
   ]
  },
  {
   "cell_type": "code",
   "execution_count": null,
   "metadata": {},
   "outputs": [],
   "source": [
    "# Mosaic Creation\n",
    "mosaic = {\"median\": median_mosaic, \"mean\": mean_mosaic, \"maxndvi\": max_ndvi, \"recent\": most_recent}\n",
    "baseline_mosaic = mosaic[mosaic_type](masked_cloud_baseline)\n",
    "analysis_mosaic = mosaic[mosaic_type](masked_cloud_analysis)\n",
    "\n",
    "baseline_mosaic = baseline_mosaic.expand_dims({\"time\":1})\n",
    "analysis_mosaic = analysis_mosaic.expand_dims({\"time\":1})\n"
   ]
  },
  {
   "cell_type": "code",
   "execution_count": null,
   "metadata": {},
   "outputs": [],
   "source": [
    "# Filter water out of the image, as it can be a source of errors\n",
    "\n",
    "baseline_mosaic = baseline_mosaic.where(NDWI(baseline_mosaic) < 0)\n",
    "analysis_mosaic = analysis_mosaic.where(NDWI(analysis_mosaic) < 0)\n",
    "\n",
    "plotter(baseline_mosaic, analysis_mosaic)"
   ]
  },
  {
   "cell_type": "code",
   "execution_count": null,
   "metadata": {},
   "outputs": [],
   "source": [
    "# Compute spectral indices\n",
    "index = {\"ndbi\": NDBI, \"ndbii\": NDBII}\n",
    "baseline_index = index[spectral](baseline_mosaic)\n",
    "analysis_index = index[spectral](analysis_mosaic)"
   ]
  },
  {
   "cell_type": "code",
   "execution_count": null,
   "metadata": {},
   "outputs": [],
   "source": [
    "baseline_index.plot(cmap=\"RdYlGn_r\", vmin=-1.5, vmax=1.0)"
   ]
  },
  {
   "cell_type": "code",
   "execution_count": null,
   "metadata": {},
   "outputs": [],
   "source": [
    "analysis_index.plot(cmap=\"RdYlGn_r\", vmin=-1.5, vmax=1.0)"
   ]
  },
  {
   "cell_type": "code",
   "execution_count": null,
   "metadata": {},
   "outputs": [],
   "source": [
    "index_change = analysis_index - baseline_index\n",
    "index_change.plot(cmap=\"RdYlGn_r\", vmin=-1.5, vmax=1.0)"
   ]
  },
  {
   "cell_type": "code",
   "execution_count": null,
   "metadata": {},
   "outputs": [],
   "source": [
    "# Create a threshold plot using the MIN and MAX range defined above\n",
    "\n",
    "from matplotlib.ticker import FuncFormatter\n",
    "\n",
    "def threshold_plot(da, min_threshold, max_threshold, mask = None, width = 10, *args, **kwargs): \n",
    "    color_in    = np.array([255,0,0])\n",
    "    color_out   = np.array([0,0,0])\n",
    "    color_cloud = np.array([255,255,255])\n",
    "\n",
    "    \n",
    "    array = np.zeros((*da.values.shape, 3)).astype(np.int16)\n",
    "    \n",
    "    inside  = np.logical_and(da.values > min_threshold, da.values < max_threshold)\n",
    "    outside = np.invert(inside)\n",
    "    masked  = np.zeros(da.values.shape).astype(bool) if mask is None else mask\n",
    "    \n",
    "    array[inside] =  color_in\n",
    "    array[outside] = color_out\n",
    "    array[masked] =  color_cloud\n",
    "\n",
    "    def figure_ratio(ds, fixed_width = 10):\n",
    "        width = fixed_width\n",
    "        height = len(ds.y) * (fixed_width / len(ds.x))\n",
    "        return (width, height)\n",
    "\n",
    "\n",
    "    fig, ax = plt.subplots(figsize = figure_ratio(da,fixed_width = width))\n",
    "    \n",
    "    lat_formatter = FuncFormatter(lambda y_val, tick_pos: \"{0:.3f}\".format(da.y.values[tick_pos] ))\n",
    "    lon_formatter = FuncFormatter(lambda x_val, tick_pos: \"{0:.3f}\".format(da.x.values[tick_pos]))\n",
    "\n",
    "    ax.xaxis.set_major_formatter(lon_formatter)\n",
    "    ax.yaxis.set_major_formatter(lat_formatter)\n",
    "    \n",
    "    plt.title(\"Threshold: {} < x < {}\".format(min_threshold, max_threshold))\n",
    "    plt.xlabel('Longitude')\n",
    "    plt.ylabel('Latitude')\n",
    "    \n",
    "    plt.imshow(array, *args, **kwargs)\n",
    "    plt.show()"
   ]
  },
  {
   "cell_type": "code",
   "execution_count": null,
   "metadata": {},
   "outputs": [],
   "source": [
    "no_data_mask = np.logical_or(np.isnan(baseline_mosaic.isel(time=0).red.values),\n",
    "                             np.isnan(analysis_mosaic.isel(time=0).red.values)) "
   ]
  },
  {
   "cell_type": "code",
   "execution_count": null,
   "metadata": {},
   "outputs": [],
   "source": [
    "threshold = {\"ndbi\": (-0.2, 1), \"ndbii\": (0.0, 0.7)}\n",
    "\n",
    "threshold_plot(baseline_index.isel(time=0), threshold[spectral][0], threshold[spectral][1], mask = no_data_mask, width  = 10)\n",
    "threshold_plot(analysis_index.isel(time=0), threshold[spectral][0], threshold[spectral][1], mask = no_data_mask, width  = 10)"
   ]
  },
  {
   "cell_type": "code",
   "execution_count": null,
   "metadata": {},
   "outputs": [],
   "source": []
  }
 ],
 "metadata": {
  "kernelspec": {
   "display_name": "Python 3",
   "language": "python",
   "name": "python3"
  },
  "language_info": {
   "codemirror_mode": {
    "name": "ipython",
    "version": 3
   },
   "file_extension": ".py",
   "mimetype": "text/x-python",
   "name": "python",
   "nbconvert_exporter": "python",
   "pygments_lexer": "ipython3",
   "version": "3.6.9"
  }
 },
 "nbformat": 4,
 "nbformat_minor": 4
}
